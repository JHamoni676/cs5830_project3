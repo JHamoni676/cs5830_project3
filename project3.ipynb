{
 "cells": [
  {
   "cell_type": "code",
   "execution_count": 2,
   "metadata": {},
   "outputs": [],
   "source": [
    "import requests\n",
    "import pandas as pd"
   ]
  },
  {
   "cell_type": "markdown",
   "metadata": {},
   "source": [
    "#### Creating the Earthquake dataset 1924 - present\n",
    "Try not to run the code that builds the datasets very often in-case the website blocks us"
   ]
  },
  {
   "cell_type": "code",
   "execution_count": 3,
   "metadata": {},
   "outputs": [],
   "source": [
    "dataframes = []\n",
    "for page in range(1, 19):\n",
    "    url = f'https://www.ngdc.noaa.gov/hazel/hazard-service/api/v1/earthquakes?itemsPerPage=200&minYear=1924&order=year%3Adesc&page={page}'\n",
    "    response = requests.get(url, headers={\"accept\": \"*/*\"})\n",
    "    df = pd.DataFrame(response.json()[\"items\"])\n",
    "    dataframes.append(df)\n",
    "\n",
    "earthquake_df = pd.concat(dataframes, ignore_index=True)\n",
    "earthquake_df\n",
    "\n",
    "#This will list all column headers\n"
   ]
  },
  {
   "cell_type": "markdown",
   "metadata": {},
   "source": [
    "#### Creating the Volcanoe dataset from 1924 to present"
   ]
  },
  {
   "cell_type": "code",
   "execution_count": 4,
   "metadata": {},
   "outputs": [],
   "source": [
    "dataframes = []\n",
    "for page in range(1, 4):\n",
    "    url = f'https://www.ngdc.noaa.gov/hazel/hazard-service/api/v1/volcanoes?minYear=1924&order=year%3Adesc&page={page}'\n",
    "    response = requests.get(url, headers={\"accept\": \"*/*\"})\n",
    "    df = pd.DataFrame(response.json()[\"items\"])\n",
    "    dataframes.append(df)\n",
    "\n",
    "volcanoe_df = pd.concat(dataframes, ignore_index=True)\n",
    "volcanoe_df\n",
    "\n",
    "\n",
    "\n",
    "#This will list all column headers\n"
   ]
  },
  {
   "cell_type": "markdown",
   "metadata": {},
   "source": [
    "#### Creating the Tsunami dataset 1924 - present "
   ]
  },
  {
   "cell_type": "code",
   "execution_count": 5,
   "metadata": {},
   "outputs": [],
   "source": [
    "dataframes = []\n",
    "for page in range(1, 7):\n",
    "    url = f'https://www.ngdc.noaa.gov/hazel/hazard-service/api/v1/tsunamis/events?itemsPerPage=200&minYear=1924&order=year%3Adesc&page={page}'\n",
    "    response = requests.get(url, headers={\"accept\": \"*/*\"})\n",
    "    df = pd.DataFrame(response.json()['items'])\n",
    "    dataframes.append(df)\n",
    "\n",
    "tsunami_df = pd.concat(dataframes, ignore_index=True)"
   ]
  },
  {
   "cell_type": "markdown",
   "metadata": {},
   "source": [
    "#### Code to save the data frames in the core/ folder so we don't have to hit the api over and over again.\n",
    "Once done, comment the code in this section and the code above"
   ]
  },
  {
   "cell_type": "code",
   "execution_count": 6,
   "metadata": {},
   "outputs": [],
   "source": [
    "#This will save the df to a csv in the 'core/' folder\n",
    "earthquake_df.to_csv('core/earthquake_data.csv')\n",
    "\n",
    "#This will save the df to a csv in the 'core/' folder\n",
    "volcanoe_df.to_csv('core/volcanoe_data.csv')\n",
    "\n",
    "#This will save the df to a csv in the 'core/' folder\n",
    "tsunami_df.to_csv('core/tsunami_data.csv')"
   ]
  },
  {
   "cell_type": "markdown",
   "metadata": {},
   "source": [
    "#### This reads the csv files and creates the dataframes we will want to use in our work"
   ]
  },
  {
   "cell_type": "code",
   "execution_count": 8,
   "metadata": {},
   "outputs": [],
   "source": [
    "earthquake_df = pd.read_csv('core/earthquake_data.csv')\n",
    "volcanoe_df = pd.read_csv('core/volcanoe_data.csv')\n",
    "tsunami_df = pd.read_csv('core/tsunami_data.csv')"
   ]
  },
  {
   "cell_type": "markdown",
   "metadata": {},
   "source": [
    "#### This will show you the table headers"
   ]
  },
  {
   "cell_type": "code",
   "execution_count": null,
   "metadata": {},
   "outputs": [],
   "source": [
    "# display(earthquake_df.columns)\n",
    "# display(volcanoe_df.columns)\n",
    "# display(tsunami_df.columns)"
   ]
  }
 ],
 "metadata": {
  "kernelspec": {
   "display_name": "base",
   "language": "python",
   "name": "python3"
  },
  "language_info": {
   "codemirror_mode": {
    "name": "ipython",
    "version": 3
   },
   "file_extension": ".py",
   "mimetype": "text/x-python",
   "name": "python",
   "nbconvert_exporter": "python",
   "pygments_lexer": "ipython3",
   "version": "3.10.1"
  }
 },
 "nbformat": 4,
 "nbformat_minor": 2
}
