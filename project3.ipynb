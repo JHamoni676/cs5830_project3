{
 "cells": [
  {
   "cell_type": "code",
   "execution_count": 1,
   "metadata": {},
   "outputs": [],
   "source": [
    "import requests\n",
    "import numpy as np\n",
    "import seaborn as sns\n",
    "import pandas as pd\n",
    "import matplotlib.pyplot as plt\n",
    "import scipy.stats as stats\n",
    "import statistics"
   ]
  },
  {
   "cell_type": "markdown",
   "metadata": {},
   "source": [
    "#### Creating the Earthquake dataset 1924 - present\n",
    "Try not to run the code that builds the datasets very often in-case the website blocks us"
   ]
  },
  {
   "cell_type": "code",
   "execution_count": 2,
   "metadata": {},
   "outputs": [],
   "source": [
    "dataframes = []\n",
    "for page in range(1, 19):\n",
    "    url = f'https://www.ngdc.noaa.gov/hazel/hazard-service/api/v1/earthquakes?itemsPerPage=200&minYear=1924&order=year%3Adesc&page={page}'\n",
    "    response = requests.get(url, headers={\"accept\": \"*/*\"})\n",
    "    df = pd.DataFrame(response.json()[\"items\"])\n",
    "    dataframes.append(df)\n",
    "\n",
    "earthquake_df = pd.concat(dataframes, ignore_index=True)"
   ]
  },
  {
   "cell_type": "markdown",
   "metadata": {},
   "source": [
    "#### Creating the Volcanoe dataset from 1924 to present"
   ]
  },
  {
   "cell_type": "code",
   "execution_count": 3,
   "metadata": {},
   "outputs": [],
   "source": [
    "dataframes = []\n",
    "for page in range(1, 4):\n",
    "    url = f'https://www.ngdc.noaa.gov/hazel/hazard-service/api/v1/volcanoes?minYear=1924&order=year%3Adesc&page={page}'\n",
    "    response = requests.get(url, headers={\"accept\": \"*/*\"})\n",
    "    df = pd.DataFrame(response.json()[\"items\"])\n",
    "    dataframes.append(df)\n",
    "\n",
    "volcanoe_df = pd.concat(dataframes, ignore_index=True)"
   ]
  },
  {
   "cell_type": "markdown",
   "metadata": {},
   "source": [
    "#### Creating the Tsunami dataset 1924 - present "
   ]
  },
  {
   "cell_type": "code",
   "execution_count": 4,
   "metadata": {},
   "outputs": [],
   "source": [
    "dataframes = []\n",
    "for page in range(1, 7):\n",
    "    url = f'https://www.ngdc.noaa.gov/hazel/hazard-service/api/v1/tsunamis/events?itemsPerPage=200&minYear=1924&order=year%3Adesc&page={page}'\n",
    "    response = requests.get(url, headers={\"accept\": \"*/*\"})\n",
    "    df = pd.DataFrame(response.json()['items'])\n",
    "    dataframes.append(df)\n",
    "\n",
    "tsunami_df = pd.concat(dataframes, ignore_index=True)"
   ]
  },
  {
   "cell_type": "markdown",
   "metadata": {},
   "source": [
    "#### Code to save the data frames in the core/ folder so we don't have to hit the api over and over again.\n",
    "Once done, comment the code in this section and the code above"
   ]
  },
  {
   "cell_type": "code",
   "execution_count": 5,
   "metadata": {},
   "outputs": [],
   "source": [
    "# earthquake_df.to_csv('core/earthquake_data.csv')\n",
    "# volcanoe_df.to_csv('core/volcanoe_data.csv')\n",
    "# tsunami_df.to_csv('core/tsunami_data.csv')"
   ]
  },
  {
   "cell_type": "markdown",
   "metadata": {},
   "source": [
    "#### This reads the csv files and creates the dataframes we will want to use in our work"
   ]
  },
  {
   "cell_type": "code",
   "execution_count": 6,
   "metadata": {},
   "outputs": [],
   "source": [
    "# earthquake_df = pd.read_csv('core/earthquake_data.csv')\n",
    "# volcanoe_df = pd.read_csv('core/volcanoe_data.csv')\n",
    "# tsunami_df = pd.read_csv('core/tsunami_data.csv')"
   ]
  },
  {
   "cell_type": "markdown",
   "metadata": {},
   "source": [
    "#### This will show you the table headers"
   ]
  },
  {
   "cell_type": "code",
   "execution_count": 7,
   "metadata": {},
   "outputs": [],
   "source": [
    "# display(earthquake_df.columns)\n",
    "# display(volcanoe_df.columns)\n",
    "# display(tsunami_df.columns)"
   ]
  },
  {
   "cell_type": "code",
   "execution_count": 8,
   "metadata": {},
   "outputs": [],
   "source": [
    "earthquake_df['country'] = earthquake_df['country'].str.lower()\n",
    "tsunami_df['country'] = tsunami_df['country'].str.lower()\n",
    "volcanoe_df['country'] = volcanoe_df['country'].str.lower()\n",
    "\n",
    "earthquake_data_filtered = earthquake_df[['country']].assign(disaster_type='earthquake')\n",
    "tsunami_data_filtered = tsunami_df[['country']].assign(disaster_type='tsunami')\n",
    "volcanoe_data_filtered = volcanoe_df[['country']].assign(disaster_type='volcano')\n",
    "combined_data = pd.concat([earthquake_data_filtered, tsunami_data_filtered, volcanoe_data_filtered])"
   ]
  },
  {
   "cell_type": "code",
   "execution_count": null,
   "metadata": {},
   "outputs": [],
   "source": [
    "disaster_counts_by_type = combined_data.groupby(['country', 'disaster_type']).size().unstack(fill_value=0)\n",
    "disaster_counts_by_type['total_disasters'] = disaster_counts_by_type.sum(axis=1)\n",
    "top_10_countries = disaster_counts_by_type.sort_values(by='total_disasters', ascending=False).head(20)\n",
    "plt.figure(figsize=(10, 6))\n",
    "top_10_countries[['earthquake', 'volcano', 'tsunami']].plot(kind='bar', stacked=True, color=['blue', 'green', 'red'], ax=plt.gca())\n",
    "plt.title('Top 20 Countries with the Most Natural Disasters (Stacked by Type)')\n",
    "plt.xlabel('Country')\n",
    "plt.ylabel('Number of Disasters')\n",
    "plt.xticks(rotation=45, ha='right')\n",
    "plt.legend(title='Disaster Type')\n",
    "plt.tight_layout()\n",
    "plt.show()"
   ]
  },
  {
   "cell_type": "code",
   "execution_count": 10,
   "metadata": {},
   "outputs": [],
   "source": [
    "earthquake_counts = earthquake_df.groupby('country').size().reset_index(name='earthquake_count')\n",
    "most_earthquakes = earthquake_counts.sort_values(by='earthquake_count', ascending=False).head(20)\n",
    "\n",
    "volcanoe_counts = volcanoe_df.groupby('country').size().reset_index(name='volcanic_eruption_count')\n",
    "most_volcanoes = volcanoe_counts.sort_values(by='volcanic_eruption_count', ascending=False).head(20)\n",
    "\n",
    "tsunami_counts = tsunami_df.groupby('country').size().reset_index(name='tsunami_count')\n",
    "most_tsunamis = tsunami_counts.sort_values(by='tsunami_count', ascending=False).head(20)"
   ]
  },
  {
   "cell_type": "code",
   "execution_count": null,
   "metadata": {},
   "outputs": [],
   "source": [
    "plt.figure(figsize=(10, 6))\n",
    "plt.bar(most_earthquakes['country'], most_earthquakes['earthquake_count'], color='blue')\n",
    "plt.title('Top 20 Countries with the Most Earthquakes')\n",
    "plt.xlabel('Country')\n",
    "plt.ylabel('Number of Earthquakes')\n",
    "plt.xticks(rotation=45)\n",
    "plt.tight_layout()\n",
    "plt.show()"
   ]
  },
  {
   "cell_type": "code",
   "execution_count": null,
   "metadata": {},
   "outputs": [],
   "source": [
    "plt.figure(figsize=(10, 6))\n",
    "plt.bar(most_volcanoes['country'], most_volcanoes['volcanic_eruption_count'], color='green')\n",
    "plt.title('Top 20 Countries with the Most Volcanic Eruptions')\n",
    "plt.xlabel('Country')\n",
    "plt.ylabel('Number of Volcanic Eruptions')\n",
    "plt.xticks(rotation=45)\n",
    "plt.tight_layout()\n",
    "plt.show()"
   ]
  },
  {
   "cell_type": "code",
   "execution_count": null,
   "metadata": {},
   "outputs": [],
   "source": [
    "plt.figure(figsize=(10, 6))\n",
    "plt.bar(most_tsunamis['country'], most_tsunamis['tsunami_count'], color='red')\n",
    "plt.title('Top 20 Countries with the Most Tsunamis')\n",
    "plt.xlabel('Country')\n",
    "plt.ylabel('Number of Tsunamis')\n",
    "plt.xticks(rotation=45)\n",
    "plt.tight_layout()\n",
    "plt.show()"
   ]
  },
  {
   "cell_type": "code",
   "execution_count": null,
   "metadata": {},
   "outputs": [],
   "source": [
    "earthquake_data = earthquake_df[['country', 'deaths', 'damageMillionsDollars', 'year']].rename(columns={'damageMillionsDollars': 'damage'})\n",
    "tsunami_data = tsunami_df[['country', 'deaths', 'damageMillionsDollars', 'year']].rename(columns={'damageMillionsDollars': 'damage'})\n",
    "volcano_data = volcanoe_df[['country', 'deaths', 'damageMillionsDollars', 'year']].rename(columns={'damageMillionsDollars': 'damage'})\n",
    "\n",
    "combined_data = pd.concat([earthquake_data, tsunami_data, volcano_data], ignore_index=True)\n",
    "combined_data['deaths'] = combined_data['deaths'].fillna(0)\n",
    "combined_data['damage'] = combined_data['damage'].fillna(0)\n",
    "combined_data = combined_data[combined_data['damage'] > 0]\n",
    "\n",
    "def inflation_adjustment(year):\n",
    "    return 1 + (18.36 - 0.1836 * (year - 1924))\n",
    "\n",
    "combined_data['inflation_factor'] = combined_data['year'].apply(inflation_adjustment)\n",
    "combined_data['damage_adjusted'] = combined_data['damage'] * combined_data['inflation_factor']\n",
    "\n",
    "\n",
    "country_totals = combined_data.groupby('country').agg({\n",
    "    'deaths': 'sum',\n",
    "    'damage_adjusted': 'sum'\n",
    "}).reset_index()\n",
    "\n",
    "country_totals['total_impact'] = country_totals['deaths'] + country_totals['damage_adjusted']\n",
    "\n",
    "highest_impact_countries = country_totals.sort_values(by='total_impact', ascending=False)\n",
    "disaster_count_by_country = combined_data.groupby('country').size().reset_index(name='disaster_count')\n",
    "most_disasters_countries = disaster_count_by_country.sort_values(by='disaster_count', ascending=False)\n",
    "\n",
    "print(\"Top 10 Countries with the Highest Death and Destruction (inflation adjusted):\")\n",
    "print(highest_impact_countries.head(10))\n",
    "\n",
    "print(\"\\nTop 10 Countries with the Most Disasters:\")\n",
    "print(most_disasters_countries.head(10))\n",
    "\n",
    "comparison = pd.merge(highest_impact_countries, most_disasters_countries, on='country', how='outer').fillna(0)\n",
    "comparison = comparison[['country', 'total_impact', 'disaster_count']].sort_values(by='total_impact', ascending=False)\n",
    "\n",
    "print(\"\\nComparison of Top 10 Countries by Total Impact and Disaster Count:\")\n",
    "print(comparison.head(10))\n"
   ]
  },
  {
   "cell_type": "code",
   "execution_count": null,
   "metadata": {},
   "outputs": [],
   "source": [
    "fig, ax = plt.subplots(figsize=(10, 6))\n",
    "ax.scatter(comparison['disaster_count'], comparison['total_impact'], color='purple')\n",
    "ax.set_xlabel('Disaster Count')\n",
    "ax.set_ylabel('Total Impact (Deaths + Adjusted Damage)')\n",
    "ax.set_title('Disaster Count vs Total Impact')\n",
    "ax.grid(True)\n",
    "plt.tight_layout()\n",
    "plt.show()\n",
    "\n",
    "corr, p_value = stats.pearsonr(comparison['disaster_count'], comparison['total_impact'])\n",
    "print(f\"Pearson Correlation Coefficient: {corr}\")\n",
    "print(f\"P-value: {p_value}\")"
   ]
  },
  {
   "cell_type": "code",
   "execution_count": null,
   "metadata": {},
   "outputs": [],
   "source": [
    "#What is that outlier?\n",
    "display(comparison[comparison['total_impact'] > 1*10**6])\n",
    "\n",
    "#without the outlier\n",
    "comparison_no_outlier = comparison[comparison['total_impact'] < 1*10**6]\n",
    "corr, p_value = stats.pearsonr(comparison_no_outlier['disaster_count'], comparison_no_outlier['total_impact'])\n",
    "print(f\"Pearson Correlation Coefficient (without outlier): {corr}, P-value: {p_value}\")\n",
    "\n",
    "fig, ax = plt.subplots(figsize=(10, 6))\n",
    "ax.scatter(comparison_no_outlier['disaster_count'], comparison_no_outlier['total_impact'], color='green')\n",
    "ax.set_xlabel('Disaster Count')\n",
    "ax.set_ylabel('Total Impact (Deaths + Adjusted Damage)')\n",
    "ax.set_title('Disaster Count vs Total Impact')\n",
    "ax.grid(True)\n",
    "plt.tight_layout()\n",
    "plt.show()"
   ]
  },
  {
   "cell_type": "code",
   "execution_count": null,
   "metadata": {},
   "outputs": [],
   "source": [
    "yearly_data = combined_data.groupby('year').agg({\n",
    "    'deaths': 'sum',             \n",
    "    'damage_adjusted': 'sum',    \n",
    "    'year': 'size'               \n",
    "}).rename(columns={'year': 'disaster_count'}).reset_index()\n",
    "\n",
    "plt.figure(figsize=(10, 6))\n",
    "plt.plot(yearly_data['year'], yearly_data['deaths'], marker='o', linestyle='-', color='red')\n",
    "plt.title('Year vs. Total Deaths from Natural Disasters')\n",
    "plt.xlabel('Year')\n",
    "plt.ylabel('Total Deaths')\n",
    "plt.grid(True)\n",
    "plt.show()\n",
    "\n",
    "plt.figure(figsize=(10, 6))\n",
    "plt.plot(yearly_data['year'], yearly_data['damage_adjusted'], marker='o', linestyle='-', color='blue')\n",
    "plt.title('Year vs. Total Inflation-Adjusted Damage from Natural Disasters')\n",
    "plt.xlabel('Year')\n",
    "plt.ylabel('Total Adjusted Damage (in today\\'s dollars)')\n",
    "plt.grid(True)\n",
    "plt.show()\n",
    "\n",
    "corr_deaths, p_value_deaths = stats.pearsonr(yearly_data['year'], yearly_data['deaths'])\n",
    "corr_damage, p_value_damage = stats.pearsonr(yearly_data['year'], yearly_data['damage_adjusted'])\n",
    "\n",
    "print(f\"Pearson correlation (Year vs. Total Deaths): {corr_deaths}, p-value: {p_value_deaths}\")\n",
    "print(f\"Pearson correlation (Year vs. Total Adjusted Damage): {corr_damage}, p-value: {p_value_damage}\")\n",
    "\n",
    "plt.figure(figsize=(10, 6))\n",
    "plt.plot(yearly_data['year'], yearly_data['disaster_count'], marker='o', linestyle='-', color='green')\n",
    "plt.title('Year vs. Disaster Counts')\n",
    "plt.xlabel('Year')\n",
    "plt.ylabel('Number of Disasters')\n",
    "plt.grid(True)\n",
    "plt.show()\n",
    "\n",
    "corr_disaster_count, p_value_disaster_count = stats.pearsonr(yearly_data['year'], yearly_data['disaster_count'])\n",
    "print(f\"Pearson correlation (Year vs. Disaster Count): {corr_disaster_count}, p-value: {p_value_disaster_count}\")"
   ]
  },
  {
   "cell_type": "code",
   "execution_count": null,
   "metadata": {},
   "outputs": [],
   "source": [
    "earthquake_deaths_damage = earthquake_df[['id', 'year', 'deaths', 'damageMillionsDollars']]\n",
    "display(earthquake_deaths_damage.head())\n",
    "\n",
    "volcanoe_deaths_damage = volcanoe_df[['id', 'year', 'deaths', 'damageMillionsDollars']]\n",
    "display(volcanoe_deaths_damage.head())\n",
    "\n",
    "tsunami_deaths_damage = tsunami_df[['id', 'year', 'deaths', 'damageMillionsDollars']]\n",
    "display(tsunami_deaths_damage.head())"
   ]
  },
  {
   "cell_type": "code",
   "execution_count": null,
   "metadata": {},
   "outputs": [],
   "source": [
    "#ANOVA test\n",
    "# H0: The means of the deaths for each type of disaster are equal\n",
    "# H1: The means of the deaths for each type of disaster are not equal\n",
    "\n",
    "e_deaths = earthquake_deaths_damage['deaths'].fillna(0)\n",
    "v_deaths = volcanoe_deaths_damage['deaths'].fillna(0)\n",
    "t_deaths = tsunami_deaths_damage['deaths'].fillna(0)\n",
    "\n",
    "\n",
    "display(stats.f_oneway(e_deaths, v_deaths, t_deaths))\n",
    "\n",
    "display(statistics.median(e_deaths), statistics.median(v_deaths), statistics.median(t_deaths))\n",
    "sns.kdeplot(e_deaths, label='Earthquake Deaths')\n",
    "#very right skewed\n",
    "\n",
    "#Now for values > 1000\n",
    "edeaths_small = e_deaths[e_deaths < 1000]\n",
    "vdeaths_small = v_deaths[v_deaths < 1000]\n",
    "tdeaths_small = t_deaths[t_deaths < 1000]\n",
    "\n",
    "display(stats.f_oneway(edeaths_small, vdeaths_small, tdeaths_small))\n",
    "display(statistics.median(edeaths_small), statistics.median(vdeaths_small), statistics.median(tdeaths_small))"
   ]
  },
  {
   "cell_type": "code",
   "execution_count": null,
   "metadata": {},
   "outputs": [],
   "source": [
    "sns.kdeplot(edeaths_small, label='Earthquake Deaths < 1000', color='blue')\n",
    "sns.kdeplot(vdeaths_small, label='Volcanoe Deaths < 1000', color='green')\n",
    "sns.kdeplot(tdeaths_small, label='Tsunami Deaths < 1000', color='red')"
   ]
  },
  {
   "cell_type": "code",
   "execution_count": null,
   "metadata": {},
   "outputs": [],
   "source": [
    "earthquake_deaths_damage.loc[:, 'damageMillionsDollars_adj'] = earthquake_deaths_damage['damageMillionsDollars'] * earthquake_deaths_damage['year'].apply(inflation_adjustment)\n",
    "volcanoe_deaths_damage.loc[:, 'damageMillionsDollars_adj'] = volcanoe_deaths_damage['damageMillionsDollars'] * volcanoe_deaths_damage['year'].apply(inflation_adjustment)\n",
    "tsunami_deaths_damage.loc[:, 'damageMillionsDollars_adj'] = tsunami_deaths_damage['damageMillionsDollars'] * tsunami_deaths_damage['year'].apply(inflation_adjustment)\n",
    "\n",
    "earthquake_deaths_damage_filtered = earthquake_deaths_damage[earthquake_deaths_damage['damageMillionsDollars_adj'] > 1]\n",
    "volcanoe_deaths_damage_filtered = volcanoe_deaths_damage[volcanoe_deaths_damage['damageMillionsDollars_adj'] > 1]\n",
    "tsunami_deaths_damage_filtered = tsunami_deaths_damage[tsunami_deaths_damage['damageMillionsDollars_adj'] > 1]\n",
    "\n",
    "plt.figure(figsize=(10, 6))\n",
    "sns.kdeplot(earthquake_deaths_damage_filtered['damageMillionsDollars_adj'], label='Earthquake Damages (Adjusted)', color='red')\n",
    "sns.kdeplot(volcanoe_deaths_damage_filtered['damageMillionsDollars_adj'], label='Volcano Damages (Adjusted)', color='blue')\n",
    "sns.kdeplot(tsunami_deaths_damage_filtered['damageMillionsDollars_adj'], label='Tsunami Damages (Adjusted)', color='green')\n",
    "plt.title('KDE of Inflation-Adjusted Damages by Disaster Type')\n",
    "plt.legend()\n",
    "plt.grid(True)\n",
    "plt.show()"
   ]
  },
  {
   "cell_type": "code",
   "execution_count": null,
   "metadata": {},
   "outputs": [],
   "source": [
    "plt.figure(figsize=(10, 6))\n",
    "sns.histplot(earthquake_deaths_damage_filtered['damageMillionsDollars_adj'], label='Earthquake Damages (Adjusted)', color='red', bins=30, kde=False)\n",
    "\n",
    "plt.title('Earthquake Damages (Adjusted)', fontsize=14)\n",
    "plt.xlabel('Inflation-Adjusted Damages (Millions of Dollars)', fontsize=12)\n",
    "plt.ylabel('Frequency', fontsize=12)\n",
    "plt.grid(True)\n",
    "plt.legend()\n",
    "plt.show()\n"
   ]
  },
  {
   "cell_type": "code",
   "execution_count": null,
   "metadata": {},
   "outputs": [],
   "source": [
    "plt.figure(figsize=(10, 6))\n",
    "sns.histplot(volcanoe_deaths_damage_filtered['damageMillionsDollars_adj'], label='Volcano Damages (Adjusted)', color='blue', bins=30, kde=False)\n",
    "\n",
    "plt.title('Volcano Damages (Adjusted)', fontsize=14)\n",
    "plt.xlabel('Inflation-Adjusted Damages (Millions of Dollars)', fontsize=12)\n",
    "plt.ylabel('Frequency', fontsize=12)\n",
    "plt.grid(True)\n",
    "plt.legend()\n",
    "plt.show()\n"
   ]
  },
  {
   "cell_type": "code",
   "execution_count": null,
   "metadata": {},
   "outputs": [],
   "source": [
    "plt.figure(figsize=(10, 6))\n",
    "sns.histplot(tsunami_deaths_damage_filtered['damageMillionsDollars_adj'], label='Tsunami Damages (Adjusted)', color='green', bins=30, kde=False)\n",
    "plt.title('Tsunami Damages (Adjusted)', fontsize=14)\n",
    "plt.xlabel('Inflation-Adjusted Damages (Millions of Dollars)', fontsize=12)\n",
    "plt.ylabel('Frequency', fontsize=12)\n",
    "plt.grid(True)\n",
    "plt.legend()\n",
    "plt.show()\n"
   ]
  },
  {
   "cell_type": "code",
   "execution_count": null,
   "metadata": {},
   "outputs": [],
   "source": [
    "top_earthquake_damages = earthquake_deaths_damage_filtered.sort_values(by='damageMillionsDollars_adj', ascending=False).head(10)\n",
    "print(\"Top 10 Earthquake Damages (Adjusted):\")\n",
    "print(top_earthquake_damages[['damageMillionsDollars_adj', 'year']])\n",
    "\n",
    "top_volcano_damages = volcanoe_deaths_damage_filtered.sort_values(by='damageMillionsDollars_adj', ascending=False).head(10)\n",
    "print(\"Top 10 Volcano Damages (Adjusted):\")\n",
    "print(top_volcano_damages[['damageMillionsDollars_adj', 'year']])\n",
    "\n",
    "top_tsunami_damages = tsunami_deaths_damage_filtered.sort_values(by='damageMillionsDollars_adj', ascending=False).head(10)\n",
    "print(\"Top 10 Tsunami Damages (Adjusted):\")\n",
    "print(top_tsunami_damages[['damageMillionsDollars_adj', 'year']])"
   ]
  },
  {
   "cell_type": "code",
   "execution_count": null,
   "metadata": {},
   "outputs": [],
   "source": [
    "e_damage = earthquake_deaths_damage_filtered['damageMillionsDollars_adj'].fillna(0)\n",
    "v_damage = volcanoe_deaths_damage_filtered['damageMillionsDollars_adj'].fillna(0)\n",
    "t_damage = tsunami_deaths_damage_filtered['damageMillionsDollars_adj'].fillna(0)\n",
    "\n",
    "e_damage = earthquake_deaths_damage_filtered['damageMillionsDollars_adj'].fillna(0)\n",
    "v_damage = volcanoe_deaths_damage_filtered['damageMillionsDollars_adj'].fillna(0)\n",
    "t_damage = tsunami_deaths_damage_filtered['damageMillionsDollars_adj'].fillna(0)\n",
    "\n",
    "\n",
    "display(stats.f_oneway(e_damage, v_damage, t_damage))\n",
    "\n",
    "display(statistics.median(e_damage), statistics.median(v_damage), statistics.median(t_damage))\n",
    "sns.histplot(e_damage)\n",
    "sns.histplot(v_damage)\n",
    "sns.histplot(t_damage)\n",
    "#very right skewed\n",
    "\n",
    "# #Now for values > 1000\n",
    "# edeaths_small = e_deaths[e_deaths < 1000]\n",
    "# vdeaths_small = v_deaths[v_deaths < 1000]\n",
    "# tdeaths_small = t_deaths[t_deaths < 1000]\n",
    "\n",
    "# display(stats.f_oneway(edeaths_small, vdeaths_small, tdeaths_small))\n",
    "# display(statistics.median(edeaths_small), statistics.median(vdeaths_small), statistics.median(tdeaths_small))"
   ]
  }
 ],
 "metadata": {
  "kernelspec": {
   "display_name": "base",
   "language": "python",
   "name": "python3"
  },
  "language_info": {
   "codemirror_mode": {
    "name": "ipython",
    "version": 3
   },
   "file_extension": ".py",
   "mimetype": "text/x-python",
   "name": "python",
   "nbconvert_exporter": "python",
   "pygments_lexer": "ipython3",
   "version": "3.10.1"
  }
 },
 "nbformat": 4,
 "nbformat_minor": 2
}
